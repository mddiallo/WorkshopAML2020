{
 "cells": [
  {
   "cell_type": "markdown",
   "metadata": {},
   "source": [
    "# Configuration Azure ML"
   ]
  },
  {
   "cell_type": "markdown",
   "metadata": {},
   "source": [
    "<img src='https://github.com/retkowsky/images/blob/master/AzureMLservicebanniere.png?raw=true'>"
   ]
  },
  {
   "cell_type": "markdown",
   "metadata": {},
   "source": [
    "## Infos"
   ]
  },
  {
   "cell_type": "code",
   "execution_count": null,
   "metadata": {},
   "outputs": [],
   "source": [
    "import sys\n",
    "sys.version"
   ]
  },
  {
   "cell_type": "code",
   "execution_count": null,
   "metadata": {},
   "outputs": [],
   "source": [
    "import datetime\n",
    "maintenant = datetime.datetime.now()\n",
    "print('Date :', maintenant)"
   ]
  },
  {
   "cell_type": "code",
   "execution_count": null,
   "metadata": {},
   "outputs": [],
   "source": [
    "from azureml.core import Workspace, Environment"
   ]
  },
  {
   "cell_type": "markdown",
   "metadata": {},
   "source": [
    "## Version Azure ML installée"
   ]
  },
  {
   "cell_type": "code",
   "execution_count": null,
   "metadata": {},
   "outputs": [],
   "source": [
    "import azureml.core\n",
    "print(\"Version Azure ML =\",azureml.core.VERSION)"
   ]
  },
  {
   "cell_type": "code",
   "execution_count": null,
   "metadata": {},
   "outputs": [],
   "source": [
    "pip list | grep azureml"
   ]
  },
  {
   "cell_type": "markdown",
   "metadata": {},
   "source": [
    "> Versions Azure ML : https://docs.microsoft.com/en-us/azure/machine-learning/azure-machine-learning-release-notes"
   ]
  },
  {
   "cell_type": "markdown",
   "metadata": {},
   "source": [
    "## Workspace Azure ML"
   ]
  },
  {
   "cell_type": "code",
   "execution_count": null,
   "metadata": {},
   "outputs": [],
   "source": [
    "import os\n",
    "subscription_id = os.environ.get(\"SUBSCRIPTION_ID\", \"dbd82622-13e7-42bc-9061-a17f74627285\") #ID soubscription Azure\n",
    "resource_group = os.environ.get(\"RESOURCE_GROUP\", \"rg_amldemo\") #Resource group\n",
    "workspace_name = os.environ.get(\"WORKSPACE_NAME\", \"amldemo\") #Nom workspace"
   ]
  },
  {
   "cell_type": "code",
   "execution_count": null,
   "metadata": {},
   "outputs": [],
   "source": [
    "from azureml.core import Workspace\n",
    "\n",
    "try:\n",
    "   ws = Workspace(subscription_id = subscription_id, resource_group = resource_group, workspace_name = workspace_name)\n",
    "   ws.write_config()\n",
    "   print(\"Le workspace Azure ML service a été trouvé : OK\")\n",
    "except:\n",
    "   print(\"Le workspace Azure ML service n'a pas été trouvé\")"
   ]
  },
  {
   "cell_type": "code",
   "execution_count": null,
   "metadata": {},
   "outputs": [],
   "source": [
    "# Lecture du fichier de config\n",
    "ws = Workspace.from_config()\n",
    "print('Workspace : ' + ws.name, \n",
    "      'Région : ' + ws.location, \n",
    "      'Groupe de ressources : ' + ws.resource_group, sep='\\n')"
   ]
  },
  {
   "cell_type": "code",
   "execution_count": null,
   "metadata": {},
   "outputs": [],
   "source": [
    "# Infos\n",
    "from azureml.core.workspace import Workspace\n",
    "ws = Workspace.from_config()\n",
    "ws.get_details()"
   ]
  },
  {
   "cell_type": "code",
   "execution_count": null,
   "metadata": {},
   "outputs": [],
   "source": [
    "from azureml.core import ComputeTarget, Datastore, Dataset\n",
    "\n",
    "print(\"- Compute Targets :\")\n",
    "for compute_name in ws.compute_targets:\n",
    "    compute = ws.compute_targets[compute_name]\n",
    "    print(\"\\t\", compute.name, ':', compute.type)\n",
    "    \n",
    "print(\"- Datastores :\")\n",
    "for datastore_name in ws.datastores:\n",
    "    datastore = Datastore.get(ws, datastore_name)\n",
    "    print(\"\\t\", datastore.name, ':', datastore.datastore_type)\n",
    "    \n",
    "print(\"- Datasets :\")\n",
    "for dataset_name in list(ws.datasets.keys()):\n",
    "    dataset = Dataset.get_by_name(ws, dataset_name)\n",
    "    print(\"\\t\", dataset.name)"
   ]
  },
  {
   "cell_type": "markdown",
   "metadata": {},
   "source": [
    "# Connect Azure Storage"
   ]
  },
  {
   "cell_type": "markdown",
   "metadata": {},
   "source": [
    "### Prerequisite\n",
    "\n",
    "Creer un Azure Datalake Gen 2 dans un groupe de resource\n",
    "\n",
    "How to:https://docs.microsoft.com/en-us/azure/storage/common/storage-account-create?toc=%2Fazure%2Fstorage%2Fblobs%2Ftoc.json&tabs=azure-portal#create-a-storage-account\n",
    "\n",
    "Create an Azure file share\n",
    "\n",
    "Documentation\n",
    "    https://docs.microsoft.com/en-us/azure/storage/files/storage-how-to-create-file-share?tabs=azure-portal\n"
   ]
  },
  {
   "cell_type": "markdown",
   "metadata": {},
   "source": [
    "## Connect a Fileshare"
   ]
  },
  {
   "cell_type": "code",
   "execution_count": null,
   "metadata": {},
   "outputs": [],
   "source": [
    "# example for fileshare registration\n",
    "#\n",
    "\n",
    "file_datastore_name='azfilesharesdk' # Name of the datastore to workspace\n",
    "file_share_name=os.getenv(\"FILE_SHARE_CONTAINER\", \"fileshare01\") # Name of Azure file share container\n",
    "account_name=os.getenv(\"FILE_SHARE_ACCOUNTNAME\", \"mdlegoadls\") # Storage account name\n",
    "account_key=os.getenv(\"FILE_SHARE_ACCOUNT_KEY\", \"EKgaDNKjsZtNN4mL1N08UT8PErOTyHbg57wRDUmlRC1Ot5bwm0on9X7BXquorVEX61zjMRsNPr4/5uWfy9MfpA==\") # Storage account access key\n",
    "\n",
    "file_datastore = Datastore.register_azure_file_share(workspace=ws,\n",
    "                                                     datastore_name=file_datastore_name, \n",
    "                                                     file_share_name=file_share_name, \n",
    "                                                     account_name=account_name,\n",
    "                                                     account_key=account_key)"
   ]
  },
  {
   "cell_type": "code",
   "execution_count": null,
   "metadata": {},
   "outputs": [],
   "source": [
    "print(\"- Datastores :\")\n",
    "for datastore_name in ws.datastores:\n",
    "    datastore = Datastore.get(ws, datastore_name)\n",
    "    print(\"\\t\", datastore.name, ':', datastore.datastore_type)"
   ]
  },
  {
   "cell_type": "code",
   "execution_count": null,
   "metadata": {},
   "outputs": [],
   "source": [
    "from azureml.core import Dataset\n",
    "   dataset = Dataset.Tabular.from_delimited_files(path = [(azfilesharesdk, 'lego/parts.csv')])\n",
    "\n",
    "   # preview the first 3 rows of the dataset\n",
    "   dataset.take(3).to_pandas_dataframe()"
   ]
  },
  {
   "cell_type": "markdown",
   "metadata": {},
   "source": [
    "# (Optionnel)"
   ]
  },
  {
   "cell_type": "markdown",
   "metadata": {},
   "source": [
    "## Connect Azure Datalake Store Gen 2"
   ]
  },
  {
   "cell_type": "markdown",
   "metadata": {},
   "source": [
    "### Create a service principal for ADLS Gen 2\n",
    "\n",
    "How to: Use the portal to create an Azure AD application and service principal that can access resources\n",
    "Documentation:\n",
    "    https://docs.microsoft.com/en-us/azure/active-directory/develop/howto-create-service-principal-portal\n",
    "\n",
    "Create an Azure service principal with the Azure CLI\n",
    "Documentation: \n",
    "    https://docs.microsoft.com/en-us/cli/azure/create-an-azure-service-principal-azure-cli?view=azure-cli-latest \n",
    "    \n"
   ]
  },
  {
   "cell_type": "code",
   "execution_count": null,
   "metadata": {},
   "outputs": [],
   "source": [
    "# example for Azure Datalake Gen 2\n",
    "\n",
    "adlsgen2_datastore_name = 'ADLS store name'\n",
    "\n",
    "subscription_id=os.getenv(\"ADL_SUBSCRIPTION\", \"<my_subscription_id>\") # subscription id of ADLS account\n",
    "resource_group=os.getenv(\"ADL_RESOURCE_GROUP\", \"<my_resource_group>\") # resource group of ADLS account\n",
    "\n",
    "account_name=os.getenv(\"ADLSGEN2_ACCOUNTNAME\", \"<my_account_name>\") # ADLS Gen2 account name\n",
    "tenant_id=os.getenv(\"ADLSGEN2_TENANT\", \"<my_tenant_id>\") # tenant id of service principal\n",
    "client_id=os.getenv(\"ADLSGEN2_CLIENTID\", \"<my_client_id>\") # client id of service principal\n",
    "client_secret=os.getenv(\"ADLSGEN2_CLIENT_SECRET\", \"<my_client_secret>\") # the secret of service principal\n",
    "\n",
    "adlsgen2_datastore = Datastore.register_azure_data_lake_gen2(workspace=ws,\n",
    "                                                             datastore_name=adlsgen2_datastore_name,\n",
    "                                                             account_name=account_name, # ADLS Gen2 account name\n",
    "                                                             filesystem='test', # ADLS Gen2 filesystem\n",
    "                                                             tenant_id=tenant_id, # tenant id of service principal\n",
    "                                                             client_id=client_id, # client id of service principal\n",
    "                                                             client_secret=client_secret) # the secret of service principal"
   ]
  },
  {
   "cell_type": "markdown",
   "metadata": {},
   "source": [
    "# Documentation"
   ]
  },
  {
   "cell_type": "markdown",
   "metadata": {},
   "source": [
    "- Documentation :<br> https://docs.microsoft.com/en-us/azure/machine-learning/\n",
    "\n",
    "- Nouveautés versions Azure ML service: <br>\n",
    "https://docs.microsoft.com/en-us/azure/machine-learning/service/azure-machine-learning-release-notes?view=azure-ml-py\n",
    "\n",
    "- What is Azure ML service SDK?<br>\n",
    "https://docs.microsoft.com/en-us/python/api/overview/azure/ml/intro?view=azure-ml-py\n",
    "\n",
    "- Azure ML service CLI<br>\n",
    "https://docs.microsoft.com/en-us/cli/azure/ext/azure-cli-ml/ml?view=azure-cli-latest\n",
    "\n",
    "- Azure ML Visual Interface<br>\n",
    "Algorithm & module reference overview<br>\n",
    "https://docs.microsoft.com/en-us/azure/machine-learning/algorithm-module-reference/module-reference\n"
   ]
  },
  {
   "cell_type": "markdown",
   "metadata": {},
   "source": [
    "<img src=\"https://github.com/retkowsky/images/blob/master/Powered-by-MS-Azure-logo-v2.png?raw=true\" height=\"300\" width=\"300\">"
   ]
  }
 ],
 "metadata": {
  "kernelspec": {
   "display_name": "Python 3.6 - AzureML",
   "language": "python",
   "name": "python3-azureml"
  },
  "language_info": {
   "codemirror_mode": {
    "name": "ipython",
    "version": 3
   },
   "file_extension": ".py",
   "mimetype": "text/x-python",
   "name": "python",
   "nbconvert_exporter": "python",
   "pygments_lexer": "ipython3",
   "version": "3.6.9"
  }
 },
 "nbformat": 4,
 "nbformat_minor": 4
}
